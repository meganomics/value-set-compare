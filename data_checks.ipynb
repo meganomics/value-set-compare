{
 "cells": [
  {
   "cell_type": "markdown",
   "source": [
    "# Setting Up\n",
    "\n",
    "Create a Google Drive wrapper (Drive) and Google Sheets wrapper (GSManager)"
   ],
   "metadata": {
    "collapsed": false
   },
   "id": "216a54c47470d841"
  },
  {
   "cell_type": "code",
   "execution_count": 11,
   "id": "initial_id",
   "metadata": {
    "collapsed": true,
    "ExecuteTime": {
     "end_time": "2023-07-28T16:40:11.058690Z",
     "start_time": "2023-07-28T16:40:10.689095Z"
    }
   },
   "outputs": [],
   "source": [
    "from gstuff.gdrv import Drive\n",
    "from gstuff.gsht import GSManager\n",
    "import googlesheetssettings as gss\n",
    "\n",
    "# create a Google Drive wrapper object\n",
    "drive = Drive()\n",
    "\n",
    "# create a Google Sheet Manager object\n",
    "gsm = GSManager(drive.credentials)"
   ]
  },
  {
   "cell_type": "markdown",
   "source": [
    "# Verify Data Variables"
   ],
   "metadata": {
    "collapsed": false
   },
   "id": "b510b49ba527da6"
  },
  {
   "cell_type": "code",
   "execution_count": 12,
   "outputs": [
    {
     "name": "stdout",
     "output_type": "stream",
     "text": [
      "No issues found.\n"
     ]
    }
   ],
   "source": [
    "issues = []\n",
    "dv_header_rows = 3\n",
    "stmt_header_rows = 3\n",
    "\n",
    "# get a \"workbook\", aka a full spreadsheet, not just one tab\n",
    "wb = gsm.get_workbook(gss.STATEMENT_SHEET_ID)\n",
    "\n",
    "# get a \"sheet\", aka a tab in a workbook\n",
    "statement_sheet = wb.sheets.get('Statements')\n",
    "\n",
    "# get another \"sheet\"\n",
    "data_variable_sheet = wb.sheets.get('Data Variables')\n",
    "\n",
    "\n",
    "# make a list of all of the data variables that have been defined in the Data Variables sheet\n",
    "dv_handles = []\n",
    "if data_variable_sheet.rows > dv_header_rows:\n",
    "    for i in range(dv_header_rows, data_variable_sheet.rows):\n",
    "        if data_variable_sheet.values[i][0] == 'ready':\n",
    "            # get data variable handle\n",
    "            dv_handle = data_variable_sheet.values[i][1]\n",
    "            # add data variable handle to 'dv_handles' if it's not already there\n",
    "            if dv_handle not in dv_handles:\n",
    "                dv_handles.append(dv_handle)\n",
    "\n",
    "# check to see if the data variables in the Statements sheet are in 'dv_handles'\n",
    "if statement_sheet.rows > stmt_header_rows:\n",
    "    for i in range(stmt_header_rows, statement_sheet.rows):\n",
    "        if statement_sheet.values[i][0] == 'ready':\n",
    "            # get the data variable handle\n",
    "            stmt_dv_handle = statement_sheet.values[i][6]\n",
    "            # look for the handle\n",
    "            if stmt_dv_handle not in dv_handles:\n",
    "                # the handle in the Statements sheet may be missing the 'nvdnc-ns::' prefix, so check for that\n",
    "                if 'nvdnc-ns::' + stmt_dv_handle not in dv_handles:\n",
    "                    issues.append(f'Data variable not found.\\nStatement handle: {statement_sheet.values[i][3]}\\nData variable: {stmt_dv_handle}')\n",
    "\n",
    "# display the results\n",
    "if issues:\n",
    "    for issue in issues:\n",
    "        print(issue)\n",
    "else:\n",
    "    print('No issues found.')\n"
   ],
   "metadata": {
    "collapsed": false,
    "ExecuteTime": {
     "end_time": "2023-07-28T16:40:12.772725Z",
     "start_time": "2023-07-28T16:40:11.064683Z"
    }
   },
   "id": "9a52713cff84628c"
  },
  {
   "cell_type": "markdown",
   "source": [
    "# Check Statements for Duplicate _handles_ or _labels_"
   ],
   "metadata": {
    "collapsed": false
   },
   "id": "f40b90f228eab72a"
  },
  {
   "cell_type": "code",
   "execution_count": 13,
   "outputs": [
    {
     "name": "stdout",
     "output_type": "stream",
     "text": [
      "No issues found.\n"
     ]
    }
   ],
   "source": [
    "wb = gsm.get_workbook(gss.STATEMENT_SHEET_ID)\n",
    "sheet = wb.get_sheet('Statements', 0, 1)\n",
    "issues = []\n",
    "if sheet and sheet.rows > 3:\n",
    "    handles = []\n",
    "    labels = []\n",
    "    for r in range(3, sheet.rows):\n",
    "        directive = sheet.get_cell(r, 'directive')\n",
    "        if directive is None:\n",
    "            issues.append(f'\"directive\" column not found')\n",
    "            break\n",
    "        elif directive == 'ready':\n",
    "            handle = sheet.get_cell(r, 'handle')\n",
    "            label = sheet.get_cell(r, 'label')\n",
    "            if handle in handles:\n",
    "                issues.append(f'Sheet: {sheet.name}, Row: {r+1}, Duplicate handle: {handle}')\n",
    "            else:\n",
    "                handles.append(handle)\n",
    "            if label in labels:\n",
    "                issues.append(f'Sheet: {sheet.name}, Row: {r+1}, Duplicate label: {label}')\n",
    "            else:\n",
    "                labels.append(label)\n",
    "if issues:\n",
    "    for issue in issues:\n",
    "        print(issue)\n",
    "else:\n",
    "    print('No issues found.')\n"
   ],
   "metadata": {
    "collapsed": false,
    "ExecuteTime": {
     "end_time": "2023-07-28T16:40:13.586099Z",
     "start_time": "2023-07-28T16:40:12.788279Z"
    }
   },
   "id": "e7c5772e1a3a0231"
  },
  {
   "cell_type": "markdown",
   "source": [
    "# Check Criteria for Duplicate _handles_ or _labels_\n",
    "\n",
    "*Note:* This will fail until an upcoming change in the loader is in place."
   ],
   "metadata": {
    "collapsed": false
   },
   "id": "e8bb87d9461e5ba9"
  },
  {
   "cell_type": "code",
   "execution_count": 14,
   "outputs": [
    {
     "name": "stderr",
     "output_type": "stream",
     "text": [
      "Column directive not found in sheet Criteria\n"
     ]
    },
    {
     "name": "stdout",
     "output_type": "stream",
     "text": [
      "\"directive\" column not found\n"
     ]
    }
   ],
   "source": [
    "wb = gsm.get_workbook(gss.CRITERION_SHEET_ID)\n",
    "sheet = wb.get_sheet('Criteria', 0, 1)\n",
    "issues = []\n",
    "if sheet and sheet.rows > 3:\n",
    "    handles = []\n",
    "    labels = []\n",
    "    for r in range(3, sheet.rows):\n",
    "        directive = sheet.get_cell(r, 'directive')\n",
    "        if directive is None:\n",
    "            issues.append(f'\"directive\" column not found')\n",
    "            break\n",
    "        elif directive == 'ready':\n",
    "            handle = sheet.get_cell(r, 'handle')\n",
    "            label = sheet.get_cell(r, 'label')\n",
    "            if handle in handles:\n",
    "                issues.append(f'Sheet: {sheet.name}, Row: {r+1}, Duplicate handle: {handle}')\n",
    "            else:\n",
    "                handles.append(handle)\n",
    "            if label in labels:\n",
    "                issues.append(f'Sheet: {sheet.name}, Row: {r+1}, Duplicate label: {label}')\n",
    "            else:\n",
    "                labels.append(label)\n",
    "if issues:\n",
    "    for issue in issues:\n",
    "        print(issue)\n",
    "else:\n",
    "    print('No issues found.')\n"
   ],
   "metadata": {
    "collapsed": false,
    "ExecuteTime": {
     "end_time": "2023-07-28T16:40:15.504377Z",
     "start_time": "2023-07-28T16:40:13.602992Z"
    }
   },
   "id": "78deb57bec55885c"
  },
  {
   "cell_type": "code",
   "execution_count": 14,
   "outputs": [],
   "source": [],
   "metadata": {
    "collapsed": false,
    "ExecuteTime": {
     "end_time": "2023-07-28T16:40:15.504782Z",
     "start_time": "2023-07-28T16:40:15.495783Z"
    }
   },
   "id": "1b65a6ccd5a12970"
  }
 ],
 "metadata": {
  "kernelspec": {
   "display_name": "Python 3",
   "language": "python",
   "name": "python3"
  },
  "language_info": {
   "codemirror_mode": {
    "name": "ipython",
    "version": 2
   },
   "file_extension": ".py",
   "mimetype": "text/x-python",
   "name": "python",
   "nbconvert_exporter": "python",
   "pygments_lexer": "ipython2",
   "version": "2.7.6"
  }
 },
 "nbformat": 4,
 "nbformat_minor": 5
}
